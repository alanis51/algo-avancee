{
 "cells": [
  {
   "cell_type": "markdown",
   "metadata": {},
   "source": [
    "# Projet Algorithmique avancée "
   ]
  },
  {
   "cell_type": "markdown",
   "metadata": {},
   "source": [
    "## Contexte\n",
    "Notre organisation, CesiCDP, décide de répondre à l'appel de l’ADEME (Agence de l’Environnement et de la Maîtrise de l’Energie) qui a pour objectif de promouvoir la réalisation de démonstrateurs et d’expérimentations de nouvelles solutions de mobilité pour les personnes et les marchandises adaptées à différents types de territoires. L'objectif pour CesiCDP est d'd’obtenir de nouveaux marchés avec des financements très intéressants pour continuer à développer votre activité.\n",
    "\n",
    "CesiCDP a choisi de focaliser son étude sur la gestion des circuits de livraison. Le défi algorithmique est de déterminer, sur un réseau routier, un circuit qui relie un certain nombre de villes entre elles et revient ensuite à son point de départ, le tout en minimisant la durée totale du circuit. Cette optimisation devra prendre en compte le trafic prévu sur chaque route pour les différentes périodes de la journée.\n",
    "\n",
    "L’idée est de proposer une méthode issue de la Recherche Opérationnelle pour générer une tournée de livraison correspondant à ce problème.\n",
    "\n",
    "La portée du problème reste à préciser. Une version initiale a été définie, mais il est envisagé d'intégrer des contraintes additionnelles pour augmenter le réalisme, même si cela pourrait compliquer sa résolution."
   ]
  },
  {
   "cell_type": "markdown",
   "metadata": {},
   "source": [
    "## Partie 1 - Modélisation \n",
    "Ce premier livrable est dédié à la modélisation générale du projet et du problème. Nous devons, d'une part, proposer une représentation formelle des données, du problème, et de l’objectif à optimiser (en intégrant les contraintes supplémentaires choisies). D'autre part, il nous est demandé de nous appuyer sur cette représentation formelle pour démontrer la complexité théorique du problème en question.\n",
    "\n",
    "### 1. Choix de la/des contrainte/s\n",
    "Nous avons fait le choix de traiter la contrainte suivante :\n",
    "\n",
    "**Capacité des camions (2 ou 3 dimensions) et encombrement des objets.**\n",
    "\n",
    "Nous espérons également pouvoir intégrer une seconde contrainte mais l'intégration de cette dernière dépendra de notre avancée dans le projet. Nous espérons ainsi réaliser cette contrainte supplémentaire :\n",
    "\n",
    "**Le temps de parcours d’une arête varie au cours du temps (ce qui revient à faire varier sa longueur), pour représenter la variation du trafic.**\n",
    "\n",
    "### 2. Propriétés théoriques\n",
    "\n",
    "\n",
    "### 3. Etude de la complexité\n",
    "\n",
    "\n",
    "### 4. Représentation formelle\n",
    "\n",
    "#### 4.1 Représentation formelle des données\n",
    "\n",
    "#### 4.2. Représentation formelle du problème\n",
    "\n",
    "#### 4.3. Représenantion formelle de l'objectif à optimiser\n",
    "\n",
    "### 5. Complexité thérique du problème\n"
   ]
  },
  {
   "cell_type": "markdown",
   "metadata": {},
   "source": [
    "## Partie 2 - Implémentation"
   ]
  },
  {
   "cell_type": "markdown",
   "metadata": {},
   "source": []
  },
  {
   "cell_type": "markdown",
   "metadata": {},
   "source": [
    "## Partie 3 - Etude expérimentale"
   ]
  }
 ],
 "metadata": {
  "kernelspec": {
   "display_name": "Python 3",
   "language": "python",
   "name": "python3"
  },
  "language_info": {
   "codemirror_mode": {
    "name": "ipython",
    "version": 3
   },
   "file_extension": ".py",
   "mimetype": "text/x-python",
   "name": "python",
   "nbconvert_exporter": "python",
   "pygments_lexer": "ipython3",
   "version": "3.11.2"
  }
 },
 "nbformat": 4,
 "nbformat_minor": 2
}
